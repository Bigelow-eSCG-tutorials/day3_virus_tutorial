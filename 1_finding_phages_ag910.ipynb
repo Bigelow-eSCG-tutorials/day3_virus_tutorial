{
 "cells": [
  {
   "cell_type": "code",
   "execution_count": 1,
   "id": "98942956-8018-485d-95f1-cbdea8da2d69",
   "metadata": {
    "tags": []
   },
   "outputs": [],
   "source": [
    "import os\n",
    "# pip install pandas as needed\n",
    "import pandas as pd"
   ]
  },
  {
   "cell_type": "markdown",
   "id": "5ade3669-f854-437e-b1d7-99bd0f808cb4",
   "metadata": {},
   "source": [
    "Let's find some viruses!  This notebook will go through the following steps:\n",
    "\n",
    "1. Run three virus finders\n",
    "2. Apply thresholds to filter out unlikely candidates\n",
    "3. Merge results from virus finders"
   ]
  },
  {
   "cell_type": "markdown",
   "id": "6c6cb8ea-1eab-4037-8637-183edc348f2c",
   "metadata": {},
   "source": [
    "First, pick a SAG!\n",
    "\n",
    "Check out the table [here](https://docs.google.com/spreadsheets/d/1yn6GsOv8dHwtsn2UKs5KIYUtCLsc1PL5Lsp6aMV6294/edit?usp=sharing) to select a SAG. Fill in your name next to your selected SAG."
   ]
  },
  {
   "cell_type": "markdown",
   "id": "cbaf4ac3-072d-4598-878b-aa1d920428b3",
   "metadata": {},
   "source": [
    "Now assign your SAG ID to the SAG variable.  Let's also set some other variable names, such as the location of the working directory and where we will place the sag contigs."
   ]
  },
  {
   "cell_type": "code",
   "execution_count": 45,
   "id": "68090545-b49c-48c8-82cf-6ad0c82af2e5",
   "metadata": {
    "tags": []
   },
   "outputs": [],
   "source": [
    "# choice of SAGs\n",
    "# 1. AG-910-D08\n",
    "# 2. AG-910-N05 (smallest - quickest)\n",
    "# 3. AG-910-N11\n",
    "# 4. AG-910-F10\n",
    "# 5. AG-910-K03 - really big - 20x of the smallest... \n",
    "\n",
    "sag = 'AG-910-N05'\n",
    "\n",
    "# setting a working subdirectory for virus finding\n",
    "sagdir = \"{}_vfinding\".format(sag)\n",
    "\n",
    "# setting a location to place SAG contigs\n",
    "sag_contigs = os.path.join(sagdir, 'final_contigs_{}.fasta'.format(sag))"
   ]
  },
  {
   "cell_type": "markdown",
   "id": "273c8f2e-d3cf-411d-9659-54ab0a208bce",
   "metadata": {},
   "source": [
    "Now let's create a working directory, and copy our SAG over to this directory"
   ]
  },
  {
   "cell_type": "code",
   "execution_count": 46,
   "id": "c4e3e571-52cd-410f-9d74-cac33e62ee3c",
   "metadata": {
    "tags": []
   },
   "outputs": [],
   "source": [
    "!mkdir {sagdir}\n",
    "\n",
    "!cp /mnt/storage/data/ag-910/{sag}/final_contigs_{sag}.fasta {sagdir}"
   ]
  },
  {
   "cell_type": "markdown",
   "id": "e505df07-33f4-403c-8516-403e2d7dd5c8",
   "metadata": {},
   "source": [
    "#### VirSorter2\n",
    "\n",
    "First let's make a directory for virsorter2 outputs:"
   ]
  },
  {
   "cell_type": "code",
   "execution_count": 47,
   "id": "6e10d2d2-b966-401b-8386-1091764a991d",
   "metadata": {
    "tags": []
   },
   "outputs": [],
   "source": [
    "vs2_output_dir = os.path.join(sagdir, 'vs2')\n",
    "\n",
    "!mkdir {vs2_output_dir}"
   ]
  },
  {
   "cell_type": "markdown",
   "id": "ea82fbe4-1e10-41a0-b22b-6bf1b8aba8fe",
   "metadata": {},
   "source": [
    "VirSorter2 is installed within a conda environment.  To load virsorter2, open a terminal and enter:\n",
    "\n",
    "```\n",
    "source activate /mnt/storage/envs/vs2\n",
    "```\n",
    "\n",
    "The general command for virsorter2 is:\n",
    "\n",
    "```\n",
    "virsorter run -i {sag_contigs} -w {output_dir} -j {number of jobs}\n",
    "```\n",
    "\n",
    "For this tutorial, enter the below printed line into your terminal:"
   ]
  },
  {
   "cell_type": "code",
   "execution_count": 48,
   "id": "d84ccc95-f343-48bd-b7bd-2e7501fb6c7e",
   "metadata": {
    "scrolled": true,
    "tags": []
   },
   "outputs": [
    {
     "name": "stdout",
     "output_type": "stream",
     "text": [
      "virsorter run -i AG-910-N05_vfinding/final_contigs_AG-910-N05.fasta -w AG-910-N05_vfinding/vs2 -j 2\n"
     ]
    }
   ],
   "source": [
    "print('virsorter run -i {sag_contigs} -w {vs2_output_dir} -j 2'.format(sag_contigs = sag_contigs, vs2_output_dir = vs2_output_dir))"
   ]
  },
  {
   "cell_type": "markdown",
   "id": "9223f856-e723-4167-a8d6-5f8041698ba0",
   "metadata": {},
   "source": [
    "### DeepVirFinder\n",
    "\n",
    "Next let's run our SAG through DeepVirFinder"
   ]
  },
  {
   "cell_type": "code",
   "execution_count": 49,
   "id": "4de436fa-fb3a-4292-933a-6e6c418cefda",
   "metadata": {
    "tags": []
   },
   "outputs": [],
   "source": [
    "dvf_outdir = os.path.join(sagdir, \"dvf\")\n",
    "\n",
    "!mkdir {dvf_outdir}"
   ]
  },
  {
   "cell_type": "markdown",
   "id": "59e845ba-ec6c-44bd-95c6-4d378bc639d7",
   "metadata": {
    "tags": []
   },
   "source": [
    "We'll want to work in the DeepVirFinder conda environment to run this software in a terminal, rather than in this notebook. Load this environment in terminal by typing:\n",
    "\n",
    "```\n",
    "source activate /mnt/storage/envs/dvf\n",
    "```\n",
    "\n",
    "The general command for vibrant is:\n",
    "```\n",
    "dvf.py -i {contig} -o {output directory} -c {cpus}\n",
    "```\n",
    "\n",
    "To run for your SAG, enter the printed output from the below line into your terminal:"
   ]
  },
  {
   "cell_type": "code",
   "execution_count": 50,
   "id": "9b59ddfe-0ef5-4d31-a1e1-c7771d63542b",
   "metadata": {
    "tags": []
   },
   "outputs": [
    {
     "name": "stdout",
     "output_type": "stream",
     "text": [
      "python /mnt/storage/software/DeepVirFinder/dvf.py -i AG-910-N05_vfinding/final_contigs_AG-910-N05.fasta -o AG-910-N05_vfinding/dvf -c 2 \n"
     ]
    }
   ],
   "source": [
    "print('python /mnt/storage/software/DeepVirFinder/dvf.py -i {sag_contigs} -o {dvf_outdir} -c 2 '.format(**locals()))"
   ]
  },
  {
   "cell_type": "markdown",
   "id": "ecb255c1-d35f-48d9-8155-fe666196bc72",
   "metadata": {},
   "source": [
    "Now let's explore the outputs!\n",
    "\n",
    "### Virsorter2\n",
    "\n",
    "Let's list the directory contents:"
   ]
  },
  {
   "cell_type": "code",
   "execution_count": 51,
   "id": "57da8fba-a231-40b0-9ac3-449de4ef7227",
   "metadata": {
    "tags": []
   },
   "outputs": [
    {
     "name": "stdout",
     "output_type": "stream",
     "text": [
      "config.yaml\t\t  final-viral-combined.fa  iter-0\n",
      "final-viral-boundary.tsv  final-viral-score.tsv    log\n"
     ]
    }
   ],
   "source": [
    "!ls {vs2_output_dir}"
   ]
  },
  {
   "cell_type": "markdown",
   "id": "f4b45cae-bc6c-4919-a091-c36d478965cd",
   "metadata": {},
   "source": [
    "The file we'll look at is called 'final-viral-score.tsv'.  Next, we'll load it into a pandas dataframe:"
   ]
  },
  {
   "cell_type": "code",
   "execution_count": 52,
   "id": "98646499-ac26-4108-8103-4caef41c8a24",
   "metadata": {
    "tags": []
   },
   "outputs": [
    {
     "data": {
      "text/html": [
       "<div>\n",
       "<style scoped>\n",
       "    .dataframe tbody tr th:only-of-type {\n",
       "        vertical-align: middle;\n",
       "    }\n",
       "\n",
       "    .dataframe tbody tr th {\n",
       "        vertical-align: top;\n",
       "    }\n",
       "\n",
       "    .dataframe thead th {\n",
       "        text-align: right;\n",
       "    }\n",
       "</style>\n",
       "<table border=\"1\" class=\"dataframe\">\n",
       "  <thead>\n",
       "    <tr style=\"text-align: right;\">\n",
       "      <th></th>\n",
       "      <th>seqname</th>\n",
       "      <th>dsDNAphage</th>\n",
       "      <th>ssDNA</th>\n",
       "      <th>max_score</th>\n",
       "      <th>max_score_group</th>\n",
       "      <th>length</th>\n",
       "      <th>hallmark</th>\n",
       "      <th>viral</th>\n",
       "      <th>cellular</th>\n",
       "    </tr>\n",
       "  </thead>\n",
       "  <tbody>\n",
       "    <tr>\n",
       "      <th>0</th>\n",
       "      <td>AG-910-N05_NODE_1||full</td>\n",
       "      <td>0.993</td>\n",
       "      <td>0.28</td>\n",
       "      <td>0.993</td>\n",
       "      <td>dsDNAphage</td>\n",
       "      <td>17534</td>\n",
       "      <td>0</td>\n",
       "      <td>90.0</td>\n",
       "      <td>0.0</td>\n",
       "    </tr>\n",
       "    <tr>\n",
       "      <th>1</th>\n",
       "      <td>AG-910-N05_NODE_2||full</td>\n",
       "      <td>0.940</td>\n",
       "      <td>0.70</td>\n",
       "      <td>0.940</td>\n",
       "      <td>dsDNAphage</td>\n",
       "      <td>7245</td>\n",
       "      <td>0</td>\n",
       "      <td>42.9</td>\n",
       "      <td>0.0</td>\n",
       "    </tr>\n",
       "  </tbody>\n",
       "</table>\n",
       "</div>"
      ],
      "text/plain": [
       "                   seqname  dsDNAphage  ssDNA  max_score max_score_group  \\\n",
       "0  AG-910-N05_NODE_1||full       0.993   0.28      0.993      dsDNAphage   \n",
       "1  AG-910-N05_NODE_2||full       0.940   0.70      0.940      dsDNAphage   \n",
       "\n",
       "   length  hallmark  viral  cellular  \n",
       "0   17534         0   90.0       0.0  \n",
       "1    7245         0   42.9       0.0  "
      ]
     },
     "execution_count": 52,
     "metadata": {},
     "output_type": "execute_result"
    }
   ],
   "source": [
    "vs2df = pd.read_csv(os.path.join(vs2_output_dir, \"final-viral-score.tsv\"), sep = \"\\t\")\n",
    "vs2df"
   ]
  },
  {
   "cell_type": "markdown",
   "id": "3bdb6062-dff7-42cc-a875-1ce655212f72",
   "metadata": {},
   "source": [
    "Let's add/transform some columns so that they may be merged with other virus finder outputs:"
   ]
  },
  {
   "cell_type": "code",
   "execution_count": 54,
   "id": "88bc50b9-4677-4b5f-8a8a-761db5d8a157",
   "metadata": {
    "tags": []
   },
   "outputs": [
    {
     "data": {
      "text/html": [
       "<div>\n",
       "<style scoped>\n",
       "    .dataframe tbody tr th:only-of-type {\n",
       "        vertical-align: middle;\n",
       "    }\n",
       "\n",
       "    .dataframe tbody tr th {\n",
       "        vertical-align: top;\n",
       "    }\n",
       "\n",
       "    .dataframe thead th {\n",
       "        text-align: right;\n",
       "    }\n",
       "</style>\n",
       "<table border=\"1\" class=\"dataframe\">\n",
       "  <thead>\n",
       "    <tr style=\"text-align: right;\">\n",
       "      <th></th>\n",
       "      <th>seqname</th>\n",
       "      <th>dsDNAphage</th>\n",
       "      <th>ssDNA</th>\n",
       "      <th>max_score</th>\n",
       "      <th>max_score_group</th>\n",
       "      <th>length</th>\n",
       "      <th>hallmark</th>\n",
       "      <th>viral</th>\n",
       "      <th>cellular</th>\n",
       "      <th>contig</th>\n",
       "      <th>vs2_type</th>\n",
       "      <th>sag</th>\n",
       "    </tr>\n",
       "  </thead>\n",
       "  <tbody>\n",
       "    <tr>\n",
       "      <th>0</th>\n",
       "      <td>AG-910-N05_NODE_1||full</td>\n",
       "      <td>0.993</td>\n",
       "      <td>0.28</td>\n",
       "      <td>0.993</td>\n",
       "      <td>dsDNAphage</td>\n",
       "      <td>17534</td>\n",
       "      <td>0</td>\n",
       "      <td>90.0</td>\n",
       "      <td>0.0</td>\n",
       "      <td>AG-910-N05_NODE_1</td>\n",
       "      <td>full</td>\n",
       "      <td>AG-910-N05</td>\n",
       "    </tr>\n",
       "    <tr>\n",
       "      <th>1</th>\n",
       "      <td>AG-910-N05_NODE_2||full</td>\n",
       "      <td>0.940</td>\n",
       "      <td>0.70</td>\n",
       "      <td>0.940</td>\n",
       "      <td>dsDNAphage</td>\n",
       "      <td>7245</td>\n",
       "      <td>0</td>\n",
       "      <td>42.9</td>\n",
       "      <td>0.0</td>\n",
       "      <td>AG-910-N05_NODE_2</td>\n",
       "      <td>full</td>\n",
       "      <td>AG-910-N05</td>\n",
       "    </tr>\n",
       "  </tbody>\n",
       "</table>\n",
       "</div>"
      ],
      "text/plain": [
       "                   seqname  dsDNAphage  ssDNA  max_score max_score_group  \\\n",
       "0  AG-910-N05_NODE_1||full       0.993   0.28      0.993      dsDNAphage   \n",
       "1  AG-910-N05_NODE_2||full       0.940   0.70      0.940      dsDNAphage   \n",
       "\n",
       "   length  hallmark  viral  cellular             contig vs2_type         sag  \n",
       "0   17534         0   90.0       0.0  AG-910-N05_NODE_1     full  AG-910-N05  \n",
       "1    7245         0   42.9       0.0  AG-910-N05_NODE_2     full  AG-910-N05  "
      ]
     },
     "execution_count": 54,
     "metadata": {},
     "output_type": "execute_result"
    }
   ],
   "source": [
    "vs2df['contig'] = [i.split(\"|\")[0] for i in vs2df['seqname']]\n",
    "vs2df['vs2_type'] = [i.split(\"|\")[-1] for i in vs2df['seqname']]\n",
    "vs2df['sag'] = [i.split(\"_\")[0] for i in vs2df['contig']]\n",
    "vs2df"
   ]
  },
  {
   "cell_type": "markdown",
   "id": "bc823d71-9c98-4e64-8a90-76e7ba6480a0",
   "metadata": {},
   "source": [
    "VirSorter2 is one of the only workflows that will intentionally look for different types of viruses by running several different types of virus searches.  By using the default parameters, it searched for dsDNA phages and ssDNA viruses, but we could have asked it to search for additional types of viruses.\n",
    "\n",
    "Your results may all look promising, but sometimes, this is not the case.  Let's apply a filter to this dataframe to only keep matches virsorter2 has high confidence in:\n",
    "\n",
    "In pseudocode:\n",
    "```\n",
    "Keep the contig as a viral candidate if max_score > 0.9 \n",
    "and\n",
    "either\n",
    "max_score_group == 'ssDNA'\n",
    "or\n",
    "hallmark > 0\n",
    "```\n",
    "\n",
    "And we will also add a column indicating that they are virsorter2 positive."
   ]
  },
  {
   "cell_type": "code",
   "execution_count": 77,
   "id": "08e74602-284d-4541-94e0-19b5245848fa",
   "metadata": {
    "tags": []
   },
   "outputs": [
    {
     "data": {
      "text/html": [
       "<div>\n",
       "<style scoped>\n",
       "    .dataframe tbody tr th:only-of-type {\n",
       "        vertical-align: middle;\n",
       "    }\n",
       "\n",
       "    .dataframe tbody tr th {\n",
       "        vertical-align: top;\n",
       "    }\n",
       "\n",
       "    .dataframe thead th {\n",
       "        text-align: right;\n",
       "    }\n",
       "</style>\n",
       "<table border=\"1\" class=\"dataframe\">\n",
       "  <thead>\n",
       "    <tr style=\"text-align: right;\">\n",
       "      <th></th>\n",
       "      <th>seqname</th>\n",
       "      <th>dsDNAphage</th>\n",
       "      <th>ssDNA</th>\n",
       "      <th>max_score</th>\n",
       "      <th>max_score_group</th>\n",
       "      <th>length</th>\n",
       "      <th>hallmark</th>\n",
       "      <th>viral</th>\n",
       "      <th>cellular</th>\n",
       "      <th>contig</th>\n",
       "      <th>vs2_type</th>\n",
       "      <th>sag</th>\n",
       "      <th>vs2_pos</th>\n",
       "    </tr>\n",
       "  </thead>\n",
       "  <tbody>\n",
       "    <tr>\n",
       "      <th>0</th>\n",
       "      <td>AG-910-N05_NODE_1||full</td>\n",
       "      <td>0.993</td>\n",
       "      <td>0.28</td>\n",
       "      <td>0.993</td>\n",
       "      <td>dsDNAphage</td>\n",
       "      <td>17534</td>\n",
       "      <td>0</td>\n",
       "      <td>90.0</td>\n",
       "      <td>0.0</td>\n",
       "      <td>AG-910-N05_NODE_1</td>\n",
       "      <td>full</td>\n",
       "      <td>AG-910-N05</td>\n",
       "      <td>1</td>\n",
       "    </tr>\n",
       "    <tr>\n",
       "      <th>1</th>\n",
       "      <td>AG-910-N05_NODE_2||full</td>\n",
       "      <td>0.940</td>\n",
       "      <td>0.70</td>\n",
       "      <td>0.940</td>\n",
       "      <td>dsDNAphage</td>\n",
       "      <td>7245</td>\n",
       "      <td>0</td>\n",
       "      <td>42.9</td>\n",
       "      <td>0.0</td>\n",
       "      <td>AG-910-N05_NODE_2</td>\n",
       "      <td>full</td>\n",
       "      <td>AG-910-N05</td>\n",
       "      <td>1</td>\n",
       "    </tr>\n",
       "  </tbody>\n",
       "</table>\n",
       "</div>"
      ],
      "text/plain": [
       "                   seqname  dsDNAphage  ssDNA  max_score max_score_group  \\\n",
       "0  AG-910-N05_NODE_1||full       0.993   0.28      0.993      dsDNAphage   \n",
       "1  AG-910-N05_NODE_2||full       0.940   0.70      0.940      dsDNAphage   \n",
       "\n",
       "   length  hallmark  viral  cellular             contig vs2_type         sag  \\\n",
       "0   17534         0   90.0       0.0  AG-910-N05_NODE_1     full  AG-910-N05   \n",
       "1    7245         0   42.9       0.0  AG-910-N05_NODE_2     full  AG-910-N05   \n",
       "\n",
       "   vs2_pos  \n",
       "0        1  \n",
       "1        1  "
      ]
     },
     "execution_count": 77,
     "metadata": {},
     "output_type": "execute_result"
    }
   ],
   "source": [
    "vs2_keeps = vs2df[(vs2df['max_score'] > 0.9) | \n",
    "((vs2df['max_score_group'] == 'ssDNA') | (vs2df['hallmark'] > 0))].copy()\n",
    "\n",
    "vs2_keeps['vs2_pos'] = 1\n",
    "vs2_keeps"
   ]
  },
  {
   "cell_type": "markdown",
   "id": "751449bc-822f-459d-ad15-c16744811fab",
   "metadata": {},
   "source": [
    "### DeepVirFinder\n",
    "\n",
    "And now let's check out the deep vir finder results"
   ]
  },
  {
   "cell_type": "code",
   "execution_count": 71,
   "id": "3c422dae-85f0-444d-821a-b32dc9615ece",
   "metadata": {
    "tags": []
   },
   "outputs": [
    {
     "name": "stdout",
     "output_type": "stream",
     "text": [
      "final_contigs_AG-910-N05.fasta_gt1bp_dvfpred.txt\n"
     ]
    }
   ],
   "source": [
    "!ls {dvf_outdir}"
   ]
  },
  {
   "cell_type": "markdown",
   "id": "c0ac92f8-c86a-4cc8-998f-be397a35e91c",
   "metadata": {},
   "source": [
    "Only one output table!  Let's check it out:"
   ]
  },
  {
   "cell_type": "code",
   "execution_count": 72,
   "id": "fa444c77-0dfa-45b5-ac09-4d04669e7e47",
   "metadata": {
    "tags": []
   },
   "outputs": [
    {
     "data": {
      "text/html": [
       "<div>\n",
       "<style scoped>\n",
       "    .dataframe tbody tr th:only-of-type {\n",
       "        vertical-align: middle;\n",
       "    }\n",
       "\n",
       "    .dataframe tbody tr th {\n",
       "        vertical-align: top;\n",
       "    }\n",
       "\n",
       "    .dataframe thead th {\n",
       "        text-align: right;\n",
       "    }\n",
       "</style>\n",
       "<table border=\"1\" class=\"dataframe\">\n",
       "  <thead>\n",
       "    <tr style=\"text-align: right;\">\n",
       "      <th></th>\n",
       "      <th>name</th>\n",
       "      <th>len</th>\n",
       "      <th>score</th>\n",
       "      <th>pvalue</th>\n",
       "    </tr>\n",
       "  </thead>\n",
       "  <tbody>\n",
       "    <tr>\n",
       "      <th>0</th>\n",
       "      <td>AG-910-N05_NODE_2</td>\n",
       "      <td>7372</td>\n",
       "      <td>0.999517</td>\n",
       "      <td>0.002908</td>\n",
       "    </tr>\n",
       "    <tr>\n",
       "      <th>1</th>\n",
       "      <td>AG-910-N05_NODE_1</td>\n",
       "      <td>17534</td>\n",
       "      <td>0.996460</td>\n",
       "      <td>0.005533</td>\n",
       "    </tr>\n",
       "  </tbody>\n",
       "</table>\n",
       "</div>"
      ],
      "text/plain": [
       "                name    len     score    pvalue\n",
       "0  AG-910-N05_NODE_2   7372  0.999517  0.002908\n",
       "1  AG-910-N05_NODE_1  17534  0.996460  0.005533"
      ]
     },
     "execution_count": 72,
     "metadata": {},
     "output_type": "execute_result"
    }
   ],
   "source": [
    "dvfdf = pd.read_csv(os.path.join(dvf_outdir, 'final_contigs_{}.fasta_gt1bp_dvfpred.txt'.format(sag)), sep = \"\\t\")\n",
    "dvfdf"
   ]
  },
  {
   "cell_type": "code",
   "execution_count": 73,
   "id": "53a19651-482b-44ad-ada8-fb77d293d2de",
   "metadata": {
    "tags": []
   },
   "outputs": [],
   "source": [
    "dvfdf['sag'] = [i.split(\"_\")[0] for i in dvfdf['name']]\n",
    "dvfdf['contig'] = dvfdf['name']"
   ]
  },
  {
   "cell_type": "markdown",
   "id": "9f810c2b-9a16-4eaa-91a2-bbc834ac2bee",
   "metadata": {},
   "source": [
    "The thresholds we are going to apply to these outputs are:  \n",
    "\n",
    "dvf_score_min = 0.9   \n",
    "dvf_pvalue_max = 0.05"
   ]
  },
  {
   "cell_type": "code",
   "execution_count": 74,
   "id": "d1d9a83e-cf37-4d4a-9116-b42ae9504687",
   "metadata": {
    "tags": []
   },
   "outputs": [
    {
     "data": {
      "text/html": [
       "<div>\n",
       "<style scoped>\n",
       "    .dataframe tbody tr th:only-of-type {\n",
       "        vertical-align: middle;\n",
       "    }\n",
       "\n",
       "    .dataframe tbody tr th {\n",
       "        vertical-align: top;\n",
       "    }\n",
       "\n",
       "    .dataframe thead th {\n",
       "        text-align: right;\n",
       "    }\n",
       "</style>\n",
       "<table border=\"1\" class=\"dataframe\">\n",
       "  <thead>\n",
       "    <tr style=\"text-align: right;\">\n",
       "      <th></th>\n",
       "      <th>name</th>\n",
       "      <th>len</th>\n",
       "      <th>score</th>\n",
       "      <th>pvalue</th>\n",
       "      <th>sag</th>\n",
       "      <th>contig</th>\n",
       "      <th>dvf_pos</th>\n",
       "    </tr>\n",
       "  </thead>\n",
       "  <tbody>\n",
       "    <tr>\n",
       "      <th>0</th>\n",
       "      <td>AG-910-N05_NODE_2</td>\n",
       "      <td>7372</td>\n",
       "      <td>0.999517</td>\n",
       "      <td>0.002908</td>\n",
       "      <td>AG-910-N05</td>\n",
       "      <td>AG-910-N05_NODE_2</td>\n",
       "      <td>1</td>\n",
       "    </tr>\n",
       "    <tr>\n",
       "      <th>1</th>\n",
       "      <td>AG-910-N05_NODE_1</td>\n",
       "      <td>17534</td>\n",
       "      <td>0.996460</td>\n",
       "      <td>0.005533</td>\n",
       "      <td>AG-910-N05</td>\n",
       "      <td>AG-910-N05_NODE_1</td>\n",
       "      <td>1</td>\n",
       "    </tr>\n",
       "  </tbody>\n",
       "</table>\n",
       "</div>"
      ],
      "text/plain": [
       "                name    len     score    pvalue         sag  \\\n",
       "0  AG-910-N05_NODE_2   7372  0.999517  0.002908  AG-910-N05   \n",
       "1  AG-910-N05_NODE_1  17534  0.996460  0.005533  AG-910-N05   \n",
       "\n",
       "              contig  dvf_pos  \n",
       "0  AG-910-N05_NODE_2        1  \n",
       "1  AG-910-N05_NODE_1        1  "
      ]
     },
     "execution_count": 74,
     "metadata": {},
     "output_type": "execute_result"
    }
   ],
   "source": [
    "dvf_keep = dvfdf[(dvfdf['score'] > 0.9) & (dvfdf['pvalue'] < 0.05)].copy()\n",
    "dvf_keep['dvf_pos'] = 1\n",
    "dvf_keep"
   ]
  },
  {
   "cell_type": "markdown",
   "id": "700ee2e8-325a-4fa6-bee7-f14f501c69dc",
   "metadata": {},
   "source": [
    "Now let's merge these table together, and see what our SAGs look like:"
   ]
  },
  {
   "cell_type": "code",
   "execution_count": 75,
   "id": "8d4f964a-fb78-437f-80f1-ddbcac65003a",
   "metadata": {
    "tags": []
   },
   "outputs": [
    {
     "data": {
      "text/html": [
       "<div>\n",
       "<style scoped>\n",
       "    .dataframe tbody tr th:only-of-type {\n",
       "        vertical-align: middle;\n",
       "    }\n",
       "\n",
       "    .dataframe tbody tr th {\n",
       "        vertical-align: top;\n",
       "    }\n",
       "\n",
       "    .dataframe thead th {\n",
       "        text-align: right;\n",
       "    }\n",
       "</style>\n",
       "<table border=\"1\" class=\"dataframe\">\n",
       "  <thead>\n",
       "    <tr style=\"text-align: right;\">\n",
       "      <th></th>\n",
       "      <th>contig</th>\n",
       "      <th>sag</th>\n",
       "      <th>vs2_pos</th>\n",
       "      <th>vs2_type</th>\n",
       "      <th>dvf_pos</th>\n",
       "      <th>consensus_score</th>\n",
       "    </tr>\n",
       "  </thead>\n",
       "  <tbody>\n",
       "    <tr>\n",
       "      <th>0</th>\n",
       "      <td>AG-910-N05_NODE_1</td>\n",
       "      <td>AG-910-N05</td>\n",
       "      <td>1</td>\n",
       "      <td>full</td>\n",
       "      <td>1</td>\n",
       "      <td>2</td>\n",
       "    </tr>\n",
       "    <tr>\n",
       "      <th>1</th>\n",
       "      <td>AG-910-N05_NODE_2</td>\n",
       "      <td>AG-910-N05</td>\n",
       "      <td>1</td>\n",
       "      <td>full</td>\n",
       "      <td>1</td>\n",
       "      <td>2</td>\n",
       "    </tr>\n",
       "  </tbody>\n",
       "</table>\n",
       "</div>"
      ],
      "text/plain": [
       "              contig         sag  vs2_pos vs2_type  dvf_pos  consensus_score\n",
       "0  AG-910-N05_NODE_1  AG-910-N05        1     full        1                2\n",
       "1  AG-910-N05_NODE_2  AG-910-N05        1     full        1                2"
      ]
     },
     "execution_count": 75,
     "metadata": {},
     "output_type": "execute_result"
    }
   ],
   "source": [
    "\n",
    "# defining a smaller number of columns to keep\n",
    "keep_cols = ['contig','sag','vs2_pos','vs2_type','dvf_pos']\n",
    "\n",
    "# merging the virus finding outputs, and keeping only the above columns\n",
    "merged_df = dvf_keep.merge(vs2_keeps, how = 'outer')[keep_cols]\n",
    "\n",
    "# replacing 'na' values with 0 for the virus finder results columns\n",
    "merged_df[['vs2_pos','dvf_pos']] = merged_df[['vs2_pos','dvf_pos']].fillna(0)\n",
    "\n",
    "# creating a consensus score per contig based on how many virus finders identified it.\n",
    "merged_df['consensus_score'] = merged_df['vs2_pos'] + merged_df['dvf_pos']\n",
    "merged_df['consensus_score'].value_counts()\n",
    "merged_df"
   ]
  },
  {
   "cell_type": "code",
   "execution_count": 66,
   "id": "3b8f0c20-7277-4499-8a03-982f53b722b5",
   "metadata": {},
   "outputs": [
    {
     "data": {
      "text/html": [
       "<div>\n",
       "<style scoped>\n",
       "    .dataframe tbody tr th:only-of-type {\n",
       "        vertical-align: middle;\n",
       "    }\n",
       "\n",
       "    .dataframe tbody tr th {\n",
       "        vertical-align: top;\n",
       "    }\n",
       "\n",
       "    .dataframe thead th {\n",
       "        text-align: right;\n",
       "    }\n",
       "</style>\n",
       "<table border=\"1\" class=\"dataframe\">\n",
       "  <thead>\n",
       "    <tr style=\"text-align: right;\">\n",
       "      <th></th>\n",
       "      <th>dvf_pos</th>\n",
       "      <th>vs2_pos</th>\n",
       "      <th>contig</th>\n",
       "    </tr>\n",
       "  </thead>\n",
       "  <tbody>\n",
       "    <tr>\n",
       "      <th>0</th>\n",
       "      <td>1</td>\n",
       "      <td>0.0</td>\n",
       "      <td>2</td>\n",
       "    </tr>\n",
       "  </tbody>\n",
       "</table>\n",
       "</div>"
      ],
      "text/plain": [
       "   dvf_pos  vs2_pos  contig\n",
       "0        1      0.0       2"
      ]
     },
     "execution_count": 66,
     "metadata": {},
     "output_type": "execute_result"
    }
   ],
   "source": [
    "merged_df.groupby(['dvf_pos','vs2_pos'], as_index = False)['contig'].count()"
   ]
  },
  {
   "cell_type": "markdown",
   "id": "2c3bd12e-8b05-41a1-a161-be66314bdbf9",
   "metadata": {},
   "source": [
    "Finally, write this final dataframe to my working directory to reference later:"
   ]
  },
  {
   "cell_type": "code",
   "execution_count": 76,
   "id": "ae86abd1-8e9e-441f-a0dd-f05c0c838183",
   "metadata": {
    "tags": []
   },
   "outputs": [],
   "source": [
    "merged_df.to_csv(os.path.join(sagdir, '{}_vfinding_vcandidates_merged_table.csv'.format(sag)), index = False)"
   ]
  },
  {
   "cell_type": "markdown",
   "id": "fc22fd7f-b8a8-4df6-9117-fbf3c1394a12",
   "metadata": {},
   "source": [
    "Questions:\n",
    "\n",
    "Which virus finder identified the most contigs?  \n",
    "How much overlap is there between virus candidate contigs identified by different tools?"
   ]
  }
 ],
 "metadata": {
  "kernelspec": {
   "display_name": "Python 3 (ipykernel)",
   "language": "python",
   "name": "python3"
  },
  "language_info": {
   "codemirror_mode": {
    "name": "ipython",
    "version": 3
   },
   "file_extension": ".py",
   "mimetype": "text/x-python",
   "name": "python",
   "nbconvert_exporter": "python",
   "pygments_lexer": "ipython3",
   "version": "3.10.10"
  }
 },
 "nbformat": 4,
 "nbformat_minor": 5
}
