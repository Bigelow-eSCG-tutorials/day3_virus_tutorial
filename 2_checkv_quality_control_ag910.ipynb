{
 "cells": [
  {
   "cell_type": "code",
   "execution_count": 3,
   "id": "a094e846-e47f-4578-b559-05da8bbbb70d",
   "metadata": {
    "tags": []
   },
   "outputs": [],
   "source": [
    "import pandas as pd\n",
    "# pip install pyfaidx\n",
    "from pyfaidx import Fasta\n",
    "import os\n",
    "# pip install seaborn\n",
    "import seaborn as sns\n",
    "import matplotlib.pyplot as plt\n",
    "\n",
    "# choice of SAGs\n",
    "# 1. AG-910-D08\n",
    "# 2. AG-910-N05 (smallest - quickest)\n",
    "# 3. AG-910-N11\n",
    "# 4. AG-910-F10\n",
    "# 5. AG-910-K03 - really big - 20x of the smallest... \n",
    "\n",
    "sag = 'AG-910-N05'"
   ]
  },
  {
   "cell_type": "markdown",
   "id": "80da22ca-99dd-4bde-b40f-bd04c90f170a",
   "metadata": {},
   "source": [
    "Next, let's check out the quality of these identified vcandidate contigs.  To do so, we first need to extract the viral sequences and write them into a new file, and then we can run them through CheckV.\n",
    "\n",
    "4. Extract viral contigs from SAG into new Fasta file\n",
    "5. Run viral contigs through CheckV\n",
    "6. Curate viral candidate contigs based on checkV results\n",
    "7. Extract checkV passing viral contigs\n",
    "\n",
    "First let's set up some variables that we'll be using within this notebook (same as the last notebook)."
   ]
  },
  {
   "cell_type": "code",
   "execution_count": 4,
   "id": "25fa2ec1-2f5a-4f44-97cf-07b582eba794",
   "metadata": {
    "tags": []
   },
   "outputs": [],
   "source": [
    "# setting a working subdirectory for virus finding\n",
    "sagdir = \"{}_vfinding\".format(sag)\n",
    "\n",
    "# setting a location to place SAG contigs\n",
    "sag_contigs = os.path.join(sagdir, 'final_contigs_{}.fasta'.format(sag))"
   ]
  },
  {
   "cell_type": "markdown",
   "id": "64123dd9-6f42-45da-b152-f3e276b0022b",
   "metadata": {},
   "source": [
    "And load the dataframe we'd put together in notebook 1:"
   ]
  },
  {
   "cell_type": "code",
   "execution_count": 5,
   "id": "1ecf5290-7f0f-4b5d-91c4-03288cf7d653",
   "metadata": {
    "tags": []
   },
   "outputs": [
    {
     "data": {
      "text/html": [
       "<div>\n",
       "<style scoped>\n",
       "    .dataframe tbody tr th:only-of-type {\n",
       "        vertical-align: middle;\n",
       "    }\n",
       "\n",
       "    .dataframe tbody tr th {\n",
       "        vertical-align: top;\n",
       "    }\n",
       "\n",
       "    .dataframe thead th {\n",
       "        text-align: right;\n",
       "    }\n",
       "</style>\n",
       "<table border=\"1\" class=\"dataframe\">\n",
       "  <thead>\n",
       "    <tr style=\"text-align: right;\">\n",
       "      <th></th>\n",
       "      <th>contig</th>\n",
       "      <th>sag</th>\n",
       "      <th>vs2_pos</th>\n",
       "      <th>vs2_type</th>\n",
       "      <th>dvf_pos</th>\n",
       "      <th>consensus_score</th>\n",
       "    </tr>\n",
       "  </thead>\n",
       "  <tbody>\n",
       "    <tr>\n",
       "      <th>0</th>\n",
       "      <td>AG-910-N05_NODE_1</td>\n",
       "      <td>AG-910-N05</td>\n",
       "      <td>1</td>\n",
       "      <td>full</td>\n",
       "      <td>1</td>\n",
       "      <td>2</td>\n",
       "    </tr>\n",
       "    <tr>\n",
       "      <th>1</th>\n",
       "      <td>AG-910-N05_NODE_2</td>\n",
       "      <td>AG-910-N05</td>\n",
       "      <td>1</td>\n",
       "      <td>full</td>\n",
       "      <td>1</td>\n",
       "      <td>2</td>\n",
       "    </tr>\n",
       "  </tbody>\n",
       "</table>\n",
       "</div>"
      ],
      "text/plain": [
       "              contig         sag  vs2_pos vs2_type  dvf_pos  consensus_score\n",
       "0  AG-910-N05_NODE_1  AG-910-N05        1     full        1                2\n",
       "1  AG-910-N05_NODE_2  AG-910-N05        1     full        1                2"
      ]
     },
     "execution_count": 5,
     "metadata": {},
     "output_type": "execute_result"
    }
   ],
   "source": [
    "df = pd.read_csv(os.path.join(sagdir, '{}_vfinding_vcandidates_merged_table.csv'.format(sag)))\n",
    "df"
   ]
  },
  {
   "cell_type": "markdown",
   "id": "36e4ee93-a8d1-4ca7-9c03-5fa5697cf61a",
   "metadata": {},
   "source": [
    "### Extracting viral sequences\n",
    "\n",
    "We'll use a package called pyfaidx to grab sequences from our fasta file, and our own function to write them to a new file."
   ]
  },
  {
   "cell_type": "code",
   "execution_count": 6,
   "id": "dbf2b133-25f4-4bec-a533-e3f6228d3c12",
   "metadata": {
    "tags": []
   },
   "outputs": [],
   "source": [
    "# function to write to a new output file handle:\n",
    "\n",
    "def write_fa_record(name, seq, oh, line_len=60):\n",
    "    print(\">{}\".format(name), file=oh)\n",
    "    for i in range(0, len(seq), line_len):\n",
    "        print(seq[i:i+line_len], file=oh)"
   ]
  },
  {
   "cell_type": "code",
   "execution_count": 7,
   "id": "1bd194b9-9969-4c4c-a4fb-0a7e9056a89c",
   "metadata": {
    "tags": []
   },
   "outputs": [
    {
     "name": "stdout",
     "output_type": "stream",
     "text": [
      "Our fasta file to run through checkv is AG-910-N05_vfinding/AG-910-N05_initial_vcandidates.fasta\n"
     ]
    }
   ],
   "source": [
    "fa = Fasta(sag_contigs)\n",
    "vcandidate_fasta = os.path.join(sagdir, '{}_initial_vcandidates.fasta'.format(sag))\n",
    "\n",
    "with open(vcandidate_fasta, 'w') as oh:\n",
    "    for i, l in df.iterrows():\n",
    "        seq = fa[l.contig]\n",
    "        write_fa_record(l.contig, seq, oh)\n",
    "        \n",
    "print(\"Our fasta file to run through checkv is\", vcandidate_fasta)"
   ]
  },
  {
   "cell_type": "markdown",
   "id": "8b038755-ac9c-4686-96e5-17478425b1f3",
   "metadata": {},
   "source": [
    "### CheckV of viral candidate sequences"
   ]
  },
  {
   "cell_type": "code",
   "execution_count": 8,
   "id": "ca8ec912-4c3e-448f-b0c9-00029baf4ea0",
   "metadata": {
    "tags": []
   },
   "outputs": [],
   "source": [
    "checkv_outdir = os.path.join(sagdir, \"checkv\")\n",
    "\n",
    "!mkdir {checkv_outdir}"
   ]
  },
  {
   "cell_type": "markdown",
   "id": "7a5798ed-5db1-4b6f-9613-1380ce25d97b",
   "metadata": {},
   "source": [
    "We'll want to work in the CheckV conda environment to run this software in a terminal, rather than in this notebook. Load this environment in terminal by typing:\n",
    "\n",
    "```\n",
    "source activate /mnt/storage/envs/checkv\n",
    "```\n",
    "\n",
    "The general command for vibrant is:\n",
    "```\n",
    "checkv end_to_end {infa} {outdir} -t {threads} -d {location of checkv database}\n",
    "```\n",
    "\n",
    "To run for your SAG, enter the printed output from the below line into your terminal:"
   ]
  },
  {
   "cell_type": "code",
   "execution_count": 9,
   "id": "bfa08c42-9bcf-4553-ada3-6eb9313b52ae",
   "metadata": {
    "tags": []
   },
   "outputs": [
    {
     "name": "stdout",
     "output_type": "stream",
     "text": [
      "checkv end_to_end AG-910-N05_vfinding/AG-910-N05_initial_vcandidates.fasta AG-910-N05_vfinding/checkv -t 2 -d /mnt/storage/reference_dbs/checkv/checkv-db-v1.5\n"
     ]
    }
   ],
   "source": [
    "print('checkv end_to_end {vcandidate_fasta} {checkv_outdir} -t 2 -d /mnt/storage/reference_dbs/checkv/checkv-db-v1.5'.format(**locals()))"
   ]
  },
  {
   "cell_type": "markdown",
   "id": "58054b9c-8027-4366-a9d5-18e5c5b5a88e",
   "metadata": {},
   "source": [
    "Let's check out the results!  "
   ]
  },
  {
   "cell_type": "code",
   "execution_count": 10,
   "id": "6274f52e-6735-47f2-bcca-f5dd3cf21f92",
   "metadata": {
    "tags": []
   },
   "outputs": [
    {
     "name": "stdout",
     "output_type": "stream",
     "text": [
      "complete_genomes.tsv  contamination.tsv  quality_summary.tsv  viruses.fna\n",
      "completeness.tsv      proviruses.fna\t tmp\n"
     ]
    }
   ],
   "source": [
    "!ls {checkv_outdir}"
   ]
  },
  {
   "cell_type": "markdown",
   "id": "059b8203-80cb-488b-a08c-a15f6152110f",
   "metadata": {},
   "source": [
    "Let's look specifically into the quality summary file:"
   ]
  },
  {
   "cell_type": "code",
   "execution_count": 11,
   "id": "ed59c614-4a94-44b5-8920-20d016362908",
   "metadata": {
    "tags": []
   },
   "outputs": [
    {
     "data": {
      "text/html": [
       "<div>\n",
       "<style scoped>\n",
       "    .dataframe tbody tr th:only-of-type {\n",
       "        vertical-align: middle;\n",
       "    }\n",
       "\n",
       "    .dataframe tbody tr th {\n",
       "        vertical-align: top;\n",
       "    }\n",
       "\n",
       "    .dataframe thead th {\n",
       "        text-align: right;\n",
       "    }\n",
       "</style>\n",
       "<table border=\"1\" class=\"dataframe\">\n",
       "  <thead>\n",
       "    <tr style=\"text-align: right;\">\n",
       "      <th></th>\n",
       "      <th>contig_id</th>\n",
       "      <th>contig_length</th>\n",
       "      <th>provirus</th>\n",
       "      <th>proviral_length</th>\n",
       "      <th>gene_count</th>\n",
       "      <th>viral_genes</th>\n",
       "      <th>host_genes</th>\n",
       "      <th>checkv_quality</th>\n",
       "      <th>miuvig_quality</th>\n",
       "      <th>completeness</th>\n",
       "      <th>completeness_method</th>\n",
       "      <th>contamination</th>\n",
       "      <th>kmer_freq</th>\n",
       "      <th>warnings</th>\n",
       "    </tr>\n",
       "  </thead>\n",
       "  <tbody>\n",
       "    <tr>\n",
       "      <th>0</th>\n",
       "      <td>AG-910-N05_NODE_1</td>\n",
       "      <td>17534</td>\n",
       "      <td>No</td>\n",
       "      <td>NaN</td>\n",
       "      <td>40</td>\n",
       "      <td>12</td>\n",
       "      <td>1</td>\n",
       "      <td>Low-quality</td>\n",
       "      <td>Genome-fragment</td>\n",
       "      <td>39.41</td>\n",
       "      <td>AAI-based (high-confidence)</td>\n",
       "      <td>0.0</td>\n",
       "      <td>1.0</td>\n",
       "      <td>NaN</td>\n",
       "    </tr>\n",
       "    <tr>\n",
       "      <th>1</th>\n",
       "      <td>AG-910-N05_NODE_2</td>\n",
       "      <td>7372</td>\n",
       "      <td>No</td>\n",
       "      <td>NaN</td>\n",
       "      <td>15</td>\n",
       "      <td>2</td>\n",
       "      <td>0</td>\n",
       "      <td>Low-quality</td>\n",
       "      <td>Genome-fragment</td>\n",
       "      <td>19.73</td>\n",
       "      <td>AAI-based (high-confidence)</td>\n",
       "      <td>0.0</td>\n",
       "      <td>1.0</td>\n",
       "      <td>NaN</td>\n",
       "    </tr>\n",
       "  </tbody>\n",
       "</table>\n",
       "</div>"
      ],
      "text/plain": [
       "           contig_id  contig_length provirus  proviral_length  gene_count  \\\n",
       "0  AG-910-N05_NODE_1          17534       No              NaN          40   \n",
       "1  AG-910-N05_NODE_2           7372       No              NaN          15   \n",
       "\n",
       "   viral_genes  host_genes checkv_quality   miuvig_quality  completeness  \\\n",
       "0           12           1    Low-quality  Genome-fragment         39.41   \n",
       "1            2           0    Low-quality  Genome-fragment         19.73   \n",
       "\n",
       "           completeness_method  contamination  kmer_freq  warnings  \n",
       "0  AAI-based (high-confidence)            0.0        1.0       NaN  \n",
       "1  AAI-based (high-confidence)            0.0        1.0       NaN  "
      ]
     },
     "execution_count": 11,
     "metadata": {},
     "output_type": "execute_result"
    }
   ],
   "source": [
    "cvdf = pd.read_csv(os.path.join(checkv_outdir, 'quality_summary.tsv'), sep = \"\\t\")\n",
    "cvdf"
   ]
  },
  {
   "cell_type": "markdown",
   "id": "7886f30d-ea6b-4112-ab91-5db729a69e27",
   "metadata": {},
   "source": [
    "What's the checkv quality of your SAG's viral candidates?"
   ]
  },
  {
   "cell_type": "code",
   "execution_count": 12,
   "id": "68be54a8-090f-429e-ad68-10af79207ba1",
   "metadata": {
    "tags": []
   },
   "outputs": [
    {
     "data": {
      "text/plain": [
       "checkv_quality\n",
       "Low-quality    2\n",
       "Name: count, dtype: int64"
      ]
     },
     "execution_count": 12,
     "metadata": {},
     "output_type": "execute_result"
    }
   ],
   "source": [
    "cvdf['checkv_quality'].value_counts()"
   ]
  },
  {
   "cell_type": "markdown",
   "id": "fc1ad765-d267-4f60-84b6-cb703e987e26",
   "metadata": {},
   "source": [
    "A metric I like to look at is the proportion of genes identified as host genes on each contig. Let's add a column that shows this:"
   ]
  },
  {
   "cell_type": "code",
   "execution_count": 13,
   "id": "bb4d1b83-0244-4ec8-9e2b-a5c83460cd5d",
   "metadata": {
    "tags": []
   },
   "outputs": [],
   "source": [
    "cvdf['pct_host_genes'] = round(cvdf['host_genes'] / cvdf['gene_count'] * 100, 1)"
   ]
  },
  {
   "cell_type": "code",
   "execution_count": 14,
   "id": "35e0507e-efb8-4565-bead-ac4ad35146b6",
   "metadata": {
    "tags": []
   },
   "outputs": [
    {
     "data": {
      "text/html": [
       "<div>\n",
       "<style scoped>\n",
       "    .dataframe tbody tr th:only-of-type {\n",
       "        vertical-align: middle;\n",
       "    }\n",
       "\n",
       "    .dataframe tbody tr th {\n",
       "        vertical-align: top;\n",
       "    }\n",
       "\n",
       "    .dataframe thead th {\n",
       "        text-align: right;\n",
       "    }\n",
       "</style>\n",
       "<table border=\"1\" class=\"dataframe\">\n",
       "  <thead>\n",
       "    <tr style=\"text-align: right;\">\n",
       "      <th></th>\n",
       "      <th>contig_id</th>\n",
       "      <th>pct_host_genes</th>\n",
       "      <th>checkv_quality</th>\n",
       "    </tr>\n",
       "  </thead>\n",
       "  <tbody>\n",
       "    <tr>\n",
       "      <th>0</th>\n",
       "      <td>AG-910-N05_NODE_1</td>\n",
       "      <td>2.5</td>\n",
       "      <td>Low-quality</td>\n",
       "    </tr>\n",
       "    <tr>\n",
       "      <th>1</th>\n",
       "      <td>AG-910-N05_NODE_2</td>\n",
       "      <td>0.0</td>\n",
       "      <td>Low-quality</td>\n",
       "    </tr>\n",
       "  </tbody>\n",
       "</table>\n",
       "</div>"
      ],
      "text/plain": [
       "           contig_id  pct_host_genes checkv_quality\n",
       "0  AG-910-N05_NODE_1             2.5    Low-quality\n",
       "1  AG-910-N05_NODE_2             0.0    Low-quality"
      ]
     },
     "execution_count": 14,
     "metadata": {},
     "output_type": "execute_result"
    }
   ],
   "source": [
    "cvdf[['contig_id','pct_host_genes','checkv_quality']]"
   ]
  },
  {
   "cell_type": "markdown",
   "id": "f01c0cd4-f48b-4bcf-b0c7-2792b0a0c134",
   "metadata": {},
   "source": [
    "We'll select contigs to move forward with based on the following criteria:\n",
    "\n",
    "```\n",
    "Keep IF:\n",
    "checkv_quality is NOT Not-determined\n",
    "OR IF:\n",
    "pct_host_genes < 50%\n",
    "```"
   ]
  },
  {
   "cell_type": "code",
   "execution_count": 15,
   "id": "9d00b5ff-4406-4069-ae45-63cf50e30116",
   "metadata": {
    "tags": []
   },
   "outputs": [],
   "source": [
    "cvdf_keeps = cvdf[(cvdf['checkv_quality'] != 'Not-determined') | (cvdf['pct_host_genes'] < 50)]\n",
    "\n"
   ]
  },
  {
   "cell_type": "code",
   "execution_count": 16,
   "id": "848aa403-46dc-4d3e-a780-a61e2d835401",
   "metadata": {
    "tags": []
   },
   "outputs": [
    {
     "data": {
      "text/html": [
       "<div>\n",
       "<style scoped>\n",
       "    .dataframe tbody tr th:only-of-type {\n",
       "        vertical-align: middle;\n",
       "    }\n",
       "\n",
       "    .dataframe tbody tr th {\n",
       "        vertical-align: top;\n",
       "    }\n",
       "\n",
       "    .dataframe thead th {\n",
       "        text-align: right;\n",
       "    }\n",
       "</style>\n",
       "<table border=\"1\" class=\"dataframe\">\n",
       "  <thead>\n",
       "    <tr style=\"text-align: right;\">\n",
       "      <th></th>\n",
       "      <th>contig_id</th>\n",
       "      <th>contig_length</th>\n",
       "      <th>provirus</th>\n",
       "      <th>proviral_length</th>\n",
       "      <th>gene_count</th>\n",
       "      <th>viral_genes</th>\n",
       "      <th>host_genes</th>\n",
       "      <th>checkv_quality</th>\n",
       "      <th>miuvig_quality</th>\n",
       "      <th>completeness</th>\n",
       "      <th>completeness_method</th>\n",
       "      <th>contamination</th>\n",
       "      <th>kmer_freq</th>\n",
       "      <th>warnings</th>\n",
       "      <th>pct_host_genes</th>\n",
       "    </tr>\n",
       "  </thead>\n",
       "  <tbody>\n",
       "    <tr>\n",
       "      <th>0</th>\n",
       "      <td>AG-910-N05_NODE_1</td>\n",
       "      <td>17534</td>\n",
       "      <td>No</td>\n",
       "      <td>NaN</td>\n",
       "      <td>40</td>\n",
       "      <td>12</td>\n",
       "      <td>1</td>\n",
       "      <td>Low-quality</td>\n",
       "      <td>Genome-fragment</td>\n",
       "      <td>39.41</td>\n",
       "      <td>AAI-based (high-confidence)</td>\n",
       "      <td>0.0</td>\n",
       "      <td>1.0</td>\n",
       "      <td>NaN</td>\n",
       "      <td>2.5</td>\n",
       "    </tr>\n",
       "    <tr>\n",
       "      <th>1</th>\n",
       "      <td>AG-910-N05_NODE_2</td>\n",
       "      <td>7372</td>\n",
       "      <td>No</td>\n",
       "      <td>NaN</td>\n",
       "      <td>15</td>\n",
       "      <td>2</td>\n",
       "      <td>0</td>\n",
       "      <td>Low-quality</td>\n",
       "      <td>Genome-fragment</td>\n",
       "      <td>19.73</td>\n",
       "      <td>AAI-based (high-confidence)</td>\n",
       "      <td>0.0</td>\n",
       "      <td>1.0</td>\n",
       "      <td>NaN</td>\n",
       "      <td>0.0</td>\n",
       "    </tr>\n",
       "  </tbody>\n",
       "</table>\n",
       "</div>"
      ],
      "text/plain": [
       "           contig_id  contig_length provirus  proviral_length  gene_count  \\\n",
       "0  AG-910-N05_NODE_1          17534       No              NaN          40   \n",
       "1  AG-910-N05_NODE_2           7372       No              NaN          15   \n",
       "\n",
       "   viral_genes  host_genes checkv_quality   miuvig_quality  completeness  \\\n",
       "0           12           1    Low-quality  Genome-fragment         39.41   \n",
       "1            2           0    Low-quality  Genome-fragment         19.73   \n",
       "\n",
       "           completeness_method  contamination  kmer_freq  warnings  \\\n",
       "0  AAI-based (high-confidence)            0.0        1.0       NaN   \n",
       "1  AAI-based (high-confidence)            0.0        1.0       NaN   \n",
       "\n",
       "   pct_host_genes  \n",
       "0             2.5  \n",
       "1             0.0  "
      ]
     },
     "execution_count": 16,
     "metadata": {},
     "output_type": "execute_result"
    }
   ],
   "source": [
    "cvdf_keeps"
   ]
  },
  {
   "cell_type": "markdown",
   "id": "63787b74-e3a6-4ab3-afb3-978f7e1a8958",
   "metadata": {},
   "source": [
    "Finally, let's save this table for the next step."
   ]
  },
  {
   "cell_type": "code",
   "execution_count": 17,
   "id": "b14ed232-7f52-47bb-b094-58a2115092bd",
   "metadata": {
    "tags": []
   },
   "outputs": [],
   "source": [
    "cvdf_keeps.to_csv(os.path.join(sagdir, '{}_post_qc_vcandidates_checkv_quality_table.csv'.format(sag)), index = False)"
   ]
  },
  {
   "cell_type": "markdown",
   "id": "527b002a-14ce-49b9-b22e-3b0e9b634c04",
   "metadata": {},
   "source": [
    "OK, finally, let's extract the passing checkV contigs into a new fasta file for input for the annotation step.\n",
    "\n",
    "This time, we'll extract contigs from the checkV output. We will do it this way because checkV separates prophages from host sequences, so if CheckV determined any of our sequences were prophage, we will only look at the phage portion of the sequence for our next step."
   ]
  },
  {
   "cell_type": "code",
   "execution_count": 18,
   "id": "d617838a-9892-4f74-9a72-8f6db2934df2",
   "metadata": {
    "tags": []
   },
   "outputs": [
    {
     "name": "stdout",
     "output_type": "stream",
     "text": [
      "Our fasta file to run through DRAM-v is AG-910-N05_vfinding/AG-910-N05_cvpassing_vcandidates.fasta\n"
     ]
    }
   ],
   "source": [
    "vfa = Fasta(os.path.join(checkv_outdir, 'viruses.fna'))\n",
    "              \n",
    "vcandidate_fasta = os.path.join(sagdir, '{}_cvpassing_vcandidates.fasta'.format(sag))\n",
    "\n",
    "with open(vcandidate_fasta, 'w') as oh:\n",
    "    for i, l in cvdf.iterrows():\n",
    "        \n",
    "        if l['provirus'] == 'Yes':\n",
    "            profa = Fasta(os.path.join(checkv_outdir, 'proviruses.fna'))\n",
    "            seq = profa[l['contig_id']]\n",
    "        else:\n",
    "            seq = vfa[l['contig_id']]\n",
    "    \n",
    "        write_fa_record(l['contig_id'], seq, oh)\n",
    "        \n",
    "print(\"Our fasta file to run through DRAM-v is\", vcandidate_fasta)"
   ]
  },
  {
   "cell_type": "markdown",
   "id": "ad0b70b3-1b8b-48b1-8f91-0fd635fd877b",
   "metadata": {},
   "source": [
    "Questions:\n",
    "\n",
    "How much did the CheckV filter affect the final contig counts?\n",
    "\n",
    "How are you feeling about your SAG at this point?  Do you think it contains a virus?\n",
    "\n",
    "Do you agree with the decisions in this notebook for filtering out viral contigs?"
   ]
  },
  {
   "cell_type": "code",
   "execution_count": null,
   "id": "cb518f83-2c56-43e2-bfce-19ba6812cb4d",
   "metadata": {},
   "outputs": [],
   "source": []
  }
 ],
 "metadata": {
  "kernelspec": {
   "display_name": "Python 3 (ipykernel)",
   "language": "python",
   "name": "python3"
  },
  "language_info": {
   "codemirror_mode": {
    "name": "ipython",
    "version": 3
   },
   "file_extension": ".py",
   "mimetype": "text/x-python",
   "name": "python",
   "nbconvert_exporter": "python",
   "pygments_lexer": "ipython3",
   "version": "3.10.10"
  }
 },
 "nbformat": 4,
 "nbformat_minor": 5
}
